{
 "cells": [
  {
   "cell_type": "code",
   "execution_count": 1,
   "metadata": {},
   "outputs": [],
   "source": [
    "import tensorflow as tf\n",
    "import cv2 as cv\n",
    "import utils"
   ]
  },
  {
   "cell_type": "code",
   "execution_count": 19,
   "metadata": {},
   "outputs": [],
   "source": [
    "# path = input('Input Image Path: ')\n",
    "path = \"test2.jpg\"\n",
    "image = cv.imread(path)"
   ]
  },
  {
   "cell_type": "code",
   "execution_count": 12,
   "metadata": {},
   "outputs": [
    {
     "name": "stdout",
     "output_type": "stream",
     "text": [
      "INFO:tensorflow:Restoring parameters from model_pb\\variables\\variables\n"
     ]
    },
    {
     "data": {
      "text/plain": [
       "tensorflow.python.client.session.Session"
      ]
     },
     "execution_count": 12,
     "metadata": {},
     "output_type": "execute_result"
    }
   ],
   "source": [
    "# Loading Model\n",
    "sess = tf.compat.v1.Session()\n",
    "model = tf.compat.v1.saved_model.loader.load(sess ,tags = ['serve'], export_dir = 'model_pb')"
   ]
  },
  {
   "cell_type": "code",
   "execution_count": 26,
   "metadata": {},
   "outputs": [
    {
     "name": "stdout",
     "output_type": "stream",
     "text": [
      "WARNING:tensorflow:From c:\\Users\\vibhu\\AppData\\Local\\Programs\\Python\\Python39\\lib\\site-packages\\tensorflow\\python\\util\\tf_should_use.py:243: initialize_all_variables (from tensorflow.python.ops.variables) is deprecated and will be removed after 2017-03-02.\n",
      "Instructions for updating:\n",
      "Use `tf.global_variables_initializer` instead.\n"
     ]
    }
   ],
   "source": [
    "# Get Predicted Text\n",
    "with tf.compat.v1.Session() as sess:\n",
    "    tf.compat.v1.initialize_all_variables().run()\n",
    "    resized_image = tf.compat.v1.image.resize_image_with_pad(image, 64, 1024).eval()\n",
    "    img_gray = cv.cvtColor(resized_image, cv.COLOR_RGB2GRAY).reshape(64,1024,1)\n",
    "\n",
    "    output = sess.run('Dense-Decoded/SparseToDense:0', \n",
    "            feed_dict = {\n",
    "                'Deep-CNN/Placeholder:0':img_gray\n",
    "            })\n",
    "    output_text = utils.dense_to_text(output[0])"
   ]
  },
  {
   "cell_type": "code",
   "execution_count": 27,
   "metadata": {},
   "outputs": [
    {
     "data": {
      "text/plain": [
       "'؟(و(ﷺً(ع(؟ذ(ذ(ع؟(ذ(ذع)؟عذ(ذ(ع؟(ذ(ذ(ع؟(ذزذ(عو؟ذزذ'"
      ]
     },
     "execution_count": 27,
     "metadata": {},
     "output_type": "execute_result"
    }
   ],
   "source": [
    "output_text\n",
    "# cv.imshow('image',image)\n",
    "# cv.waitKey(0)\n",
    "# cv.destroyAllWindows()"
   ]
  },
  {
   "cell_type": "code",
   "execution_count": null,
   "metadata": {},
   "outputs": [],
   "source": []
  }
 ],
 "metadata": {
  "kernelspec": {
   "display_name": "Python 3",
   "language": "python",
   "name": "python3"
  },
  "language_info": {
   "codemirror_mode": {
    "name": "ipython",
    "version": 3
   },
   "file_extension": ".py",
   "mimetype": "text/x-python",
   "name": "python",
   "nbconvert_exporter": "python",
   "pygments_lexer": "ipython3",
   "version": "3.9.0"
  },
  "vscode": {
   "interpreter": {
    "hash": "475ec4b6363fc2460192c3aeb6c516f3ff16c4c7d48684e503009e7cba445f44"
   }
  }
 },
 "nbformat": 4,
 "nbformat_minor": 4
}
